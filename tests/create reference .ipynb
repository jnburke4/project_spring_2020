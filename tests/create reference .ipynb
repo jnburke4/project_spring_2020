{
 "cells": [
  {
   "cell_type": "code",
   "execution_count": null,
   "metadata": {},
   "outputs": [],
   "source": [
    "import math\n",
    "import os\n",
    "\n",
    "#load reference image file and set output file name\n",
    "template_img_dir = './Documents/project_spring_2020_burkekindel_pkg/Reference_images'\n",
    "result_grid_filename = './Documents/project_spring_2020_burkekindel_pkg/grid.jpg'\n",
    "result_figsize_resolution = 40 # 1 = 100px\n",
    "\n",
    "#create list variable that lists files in reference images, and length variable for counting iterations \n",
    "images_list = sorted(os.listdir(template_img_dir))\n",
    "images_count = len(images_list)\n",
    "print('Images: ', images_list)\n",
    "print('Images count: ', images_count)\n",
    "\n",
    "# Calculate the grid size:\n",
    "grid_size = math.ceil(math.sqrt(images_count))\n",
    "\n",
    "# Create plt plot:\n",
    "fig, axes = plt.subplots(grid_size, grid_size, figsize=(result_figsize_resolution, result_figsize_resolution))\n",
    "\n",
    "\n",
    "current_file_number = 0\n",
    "\n",
    "# create an image grid of reference images that will be compared to the input image. \n",
    "for image_filename in images_list:\n",
    "    x_position = current_file_number % grid_size\n",
    "    y_position = current_file_number // grid_size\n",
    "    plt_image = plt.imread(template_img_dir + '/' + images_list[current_file_number])\n",
    "    axes[x_position, y_position].imshow(plt_image)\n",
    "    \n",
    "    axes[0,0].set_title('Bregma: -0.46', fontsize=50)\n",
    "    axes[0,1].set_title('Bregma: -0.58', fontsize=50)\n",
    "    axes[0,2].set_title('Bregma: -0.70', fontsize=50)\n",
    "    axes[1,0].set_title('Bregma: -0.82', fontsize=50)\n",
    "    axes[1,1].set_title('Bregma: -0.94', fontsize=50)\n",
    "    axes[1,2].set_title('Bregma: -1.00', fontsize=50)\n",
    "    axes[2,0].set_title('Bregma: -1.06', fontsize=50)\n",
    "    axes[2,1].set_title('Bregma: -1.12', fontsize=50)\n",
    "    axes[2,2].set_title('Bregma: -1.32', fontsize=50)\n",
    "    \n",
    "    print((current_file_number + 1), '/', images_count, ': ', image_filename)\n",
    "\n",
    "    current_file_number += 1\n",
    "\n",
    "plt.subplots_adjust(left=0.0, right=.9, bottom=0.0, top=.9)\n",
    "plt.savefig(result_grid_filename)"
   ]
  }
 ],
 "metadata": {
  "kernelspec": {
   "display_name": "Python 3",
   "language": "python",
   "name": "python3"
  },
  "language_info": {
   "codemirror_mode": {
    "name": "ipython",
    "version": 3
   },
   "file_extension": ".py",
   "mimetype": "text/x-python",
   "name": "python",
   "nbconvert_exporter": "python",
   "pygments_lexer": "ipython3",
   "version": "3.7.3"
  }
 },
 "nbformat": 4,
 "nbformat_minor": 2
}
