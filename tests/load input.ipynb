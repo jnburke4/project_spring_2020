{
 "cells": [
  {
   "cell_type": "code",
   "execution_count": null,
   "metadata": {},
   "outputs": [],
   "source": [
    "#load input image from Sample images file folder or set new path for new input image \n",
    "\n",
    "#--create a counter that upticks when a sequentially named image is found: \n",
    "#--all images must be named img1 -> imgX where X is the total number of images\n",
    "#--this counter tracks how many images we are matching stored in 'filecount'\n",
    "i=1\n",
    "pathPresence = True\n",
    "while pathPresence == True:\n",
    "    pathPresence = path.exists('./Documents/project_spring_2020_burkekindel_pkg/Sample_images/img%d.jpg' %i )\n",
    "    print(pathPresence)\n",
    "    i+=1\n",
    "    print(i)\n",
    "\n",
    "print(i-2)\n",
    "filecount = i-2\n",
    "\n",
    "i=1\n",
    "\n",
    "#--create a dictionary to hold our identified number of images so they can be easily looped through\n",
    "#--length of this dictionary will serve as our new filecount as well\n",
    "imgDict = {}\n",
    "while i <= filecount:\n",
    "\n",
    "    input_img = cv2.imread('./Documents/project_spring_2020_burkekindel_pkg/Sample_images/img%d.jpg' %i)\n",
    "\n",
    "  #scale input image and set threshold\n",
    "    scale_percent = 8 #percent of original image size\n",
    "    width = int(input_img.shape[1]* scale_percent/100)\n",
    "    height = int(input_img.shape[0]* scale_percent/100)\n",
    "    dim = (width, height)\n",
    "    input_img_resized = cv2.resize(input_img, dim, interpolation = cv2.INTER_AREA)\n",
    "  #  input_img_gs = cv2.cvtColor(input_img_resized, cv2.COLOR_BGR2GRAY)\n",
    "    thresh, input_img_bw = cv2.threshold(input_img_resized,5,250,cv2.THRESH_BINARY)\n",
    "    imgDict['%d' %i] = input_img_bw\n",
    "    i+=1"
   ]
  }
 ],
 "metadata": {
  "kernelspec": {
   "display_name": "Python 3",
   "language": "python",
   "name": "python3"
  },
  "language_info": {
   "codemirror_mode": {
    "name": "ipython",
    "version": 3
   },
   "file_extension": ".py",
   "mimetype": "text/x-python",
   "name": "python",
   "nbconvert_exporter": "python",
   "pygments_lexer": "ipython3",
   "version": "3.7.3"
  }
 },
 "nbformat": 4,
 "nbformat_minor": 2
}
