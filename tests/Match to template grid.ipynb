{
 "cells": [
  {
   "cell_type": "code",
   "execution_count": null,
   "metadata": {},
   "outputs": [],
   "source": [
    "#match template grid to sample/input image and frame reference image with most similarity \n",
    "\n",
    "#--Loop runs the length of imgDict\n",
    "#--Creates a copy of template_grid each time to draw our rectangle on\n",
    "#--Spits out image named as the input was minus 'img' \n",
    "i=1\n",
    "while i <= len(imgDict):\n",
    "    tempGrid = template_grid.copy()\n",
    "    #--it is very dumb that the thing we compare our images too is called the image and the images we compare are called the template\n",
    "    res = cv2.matchTemplate(tempGrid, imgDict['%d'%i], cv2.TM_CCOEFF)\n",
    "    cv2.imwrite('./Documents/project_spring_2020_burkekindel_pkg/Processed_images/res%d.jpg' %i, res)\n",
    "    min_val, max_val, min_loc, max_loc = cv2.minMaxLoc(res)\n",
    "\n",
    "    top_left = max_loc\n",
    "    bottom_right = (top_left[0] + width, top_left[1]+height)\n",
    "\n",
    "\n",
    "    cv2.rectangle(tempGrid, top_left, bottom_right, 255, 2)\n",
    "\n",
    "    #save framed grid to Processed images file './Processed_images/___.jpg', \n",
    "    #before running code set file name that corresponds to original input image \n",
    "    output_filepath = './Documents/project_spring_2020_burkekindel_pkg/Processed_images/%d.jpg'%i\n",
    "    status = cv2.imwrite(output_filepath, tempGrid)\n",
    "\n",
    "    #double check that file has saved \n",
    "    print('New image has been saved: ', status)\n",
    "    i+=1\n",
    "    print(i)"
   ]
  }
 ],
 "metadata": {
  "kernelspec": {
   "display_name": "Python 3",
   "language": "python",
   "name": "python3"
  },
  "language_info": {
   "codemirror_mode": {
    "name": "ipython",
    "version": 3
   },
   "file_extension": ".py",
   "mimetype": "text/x-python",
   "name": "python",
   "nbconvert_exporter": "python",
   "pygments_lexer": "ipython3",
   "version": "3.7.3"
  }
 },
 "nbformat": 4,
 "nbformat_minor": 2
}
